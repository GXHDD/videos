{
 "cells": [
  {
   "cell_type": "markdown",
   "metadata": {
    "toc": true
   },
   "source": [
    "<h1>Table of Contents<span class=\"tocSkip\"></span></h1>\n",
    "<div class=\"toc\"><ul class=\"toc-item\"><li><span><a href=\"#使用结构赋值，实现两个变量的值的交换-a-=-1;-b-=-2;\" data-toc-modified-id=\"使用结构赋值，实现两个变量的值的交换-a-=-1;-b-=-2;-1\"><span class=\"toc-item-num\">1&nbsp;&nbsp;</span>使用结构赋值，实现两个变量的值的交换 a = 1; b = 2;</a></span></li><li><span><a href=\"#使用Set去重-[12,43,23,43,68,12]\" data-toc-modified-id=\"使用Set去重-[12,43,23,43,68,12]-2\"><span class=\"toc-item-num\">2&nbsp;&nbsp;</span>使用Set去重 [12,43,23,43,68,12]</a></span></li><li><span><a href=\"#将下面for循环改成for-of形式\" data-toc-modified-id=\"将下面for循环改成for-of形式-3\"><span class=\"toc-item-num\">3&nbsp;&nbsp;</span>将下面for循环改成for of形式</a></span></li><li><span><a href=\"#使用解构赋值，完成函数的参数默认值（编程题）。\" data-toc-modified-id=\"使用解构赋值，完成函数的参数默认值（编程题）。-4\"><span class=\"toc-item-num\">4&nbsp;&nbsp;</span>使用解构赋值，完成函数的参数默认值（编程题）。</a></span></li><li><span><a href=\"#用箭头函数的形式改写下面的代码。\" data-toc-modified-id=\"用箭头函数的形式改写下面的代码。-5\"><span class=\"toc-item-num\">5&nbsp;&nbsp;</span>用箭头函数的形式改写下面的代码。</a></span></li><li><span><a href=\"#用对象的简洁表示法改写下面的代码。\" data-toc-modified-id=\"用对象的简洁表示法改写下面的代码。-6\"><span class=\"toc-item-num\">6&nbsp;&nbsp;</span>用对象的简洁表示法改写下面的代码。</a></span></li><li><span><a href=\"#利用数组推导，计算出数组-[1,2,3,4]-每一个元素的平方并组成新的数组。（编程题）\" data-toc-modified-id=\"利用数组推导，计算出数组-[1,2,3,4]-每一个元素的平方并组成新的数组。（编程题）-7\"><span class=\"toc-item-num\">7&nbsp;&nbsp;</span>利用数组推导，计算出数组 [1,2,3,4] 每一个元素的平方并组成新的数组。（编程题）</a></span></li><li><span><a href=\"#使用模板字符串改写下面的代码。（ES5-to-ES6改写题）\" data-toc-modified-id=\"使用模板字符串改写下面的代码。（ES5-to-ES6改写题）-8\"><span class=\"toc-item-num\">8&nbsp;&nbsp;</span>使用模板字符串改写下面的代码。（ES5 to ES6改写题）</a></span></li><li><span><a href=\"#定义一个a数组变量([1,2,3])-，再定一个b数组变量([4,1,3])，用has方法和filter属性求这两个数组的交集\" data-toc-modified-id=\"定义一个a数组变量([1,2,3])-，再定一个b数组变量([4,1,3])，用has方法和filter属性求这两个数组的交集-9\"><span class=\"toc-item-num\">9&nbsp;&nbsp;</span>定义一个a数组变量([1,2,3]) ，再定一个b数组变量([4,1,3])，用has方法和filter属性求这两个数组的交集</a></span></li><li><span><a href=\"#创建一个对象，obj-=-{&quot;name&quot;:&quot;nbnb&quot;,&quot;age&quot;:19,-&quot;like&quot;:&quot;HXM&quot;}。获取该对象的所有属性名\" data-toc-modified-id=\"创建一个对象，obj-=-{&quot;name&quot;:&quot;nbnb&quot;,&quot;age&quot;:19,-&quot;like&quot;:&quot;HXM&quot;}。获取该对象的所有属性名-10\"><span class=\"toc-item-num\">10&nbsp;&nbsp;</span>创建一个对象，obj = {\"name\":\"nbnb\",\"age\":19, \"like\":\"HXM\"}。获取该对象的所有属性名</a></span></li><li><span><a href=\"#Array-filter()-方法\" data-toc-modified-id=\"Array-filter()-方法-11\"><span class=\"toc-item-num\">11&nbsp;&nbsp;</span>Array filter() 方法</a></span></li><li><span><a href=\"#copyWithin()-方法\" data-toc-modified-id=\"copyWithin()-方法-12\"><span class=\"toc-item-num\">12&nbsp;&nbsp;</span>copyWithin() 方法</a></span></li><li><span><a href=\"#forEach()-方法\" data-toc-modified-id=\"forEach()-方法-13\"><span class=\"toc-item-num\">13&nbsp;&nbsp;</span>forEach() 方法</a></span></li><li><span><a href=\"#map()-方法\" data-toc-modified-id=\"map()-方法-14\"><span class=\"toc-item-num\">14&nbsp;&nbsp;</span>map() 方法</a></span></li><li><span><a href=\"#es6的导入导出模块-导入通过import关键字-只导入example.js中的-sum\" data-toc-modified-id=\"es6的导入导出模块-导入通过import关键字-只导入example.js中的-sum-15\"><span class=\"toc-item-num\">15&nbsp;&nbsp;</span>es6的导入导出模块 导入通过import关键字 只导入example.js中的 sum</a></span></li><li><span><a href=\"#es6的导入导出模块-导入通过import关键字-导入example.js中的-sum,multiply,time\" data-toc-modified-id=\"es6的导入导出模块-导入通过import关键字-导入example.js中的-sum,multiply,time-16\"><span class=\"toc-item-num\">16&nbsp;&nbsp;</span>es6的导入导出模块 导入通过import关键字 导入example.js中的 sum,multiply,time</a></span></li><li><span><a href=\"#es6的导入导出模块-导入通过import关键字-导入example.js一整个模块\" data-toc-modified-id=\"es6的导入导出模块-导入通过import关键字-导入example.js一整个模块-17\"><span class=\"toc-item-num\">17&nbsp;&nbsp;</span>es6的导入导出模块 导入通过import关键字 导入example.js一整个模块</a></span></li><li><span><a href=\"#已知一个数组为[1,2,3,3,2,1],请输出数组中‘2’的两个索引值\" data-toc-modified-id=\"已知一个数组为[1,2,3,3,2,1],请输出数组中‘2’的两个索引值-18\"><span class=\"toc-item-num\">18&nbsp;&nbsp;</span>已知一个数组为[1,2,3,3,2,1],请输出数组中‘2’的两个索引值</a></span></li><li><span><a href=\"#举出一个例子，使用ES6语法，证明map（）为什么不会对空数组遍历\" data-toc-modified-id=\"举出一个例子，使用ES6语法，证明map（）为什么不会对空数组遍历-19\"><span class=\"toc-item-num\">19&nbsp;&nbsp;</span>举出一个例子，使用ES6语法，证明map（）为什么不会对空数组遍历</a></span></li><li><span><a href=\"#已知一个数组是[1，2，3，4，5]\" data-toc-modified-id=\"已知一个数组是[1，2，3，4，5]-20\"><span class=\"toc-item-num\">20&nbsp;&nbsp;</span>已知一个数组是[1，2，3，4，5]</a></span></li><li><span><a href=\"#已知一个数组是[2,2,4,5,7].\" data-toc-modified-id=\"已知一个数组是[2,2,4,5,7].-21\"><span class=\"toc-item-num\">21&nbsp;&nbsp;</span>已知一个数组是[2,2,4,5,7].</a></span></li><li><span><a href=\"#已知一个数组为[1,2,3,4,5,6,7,8,9,10]\" data-toc-modified-id=\"已知一个数组为[1,2,3,4,5,6,7,8,9,10]-22\"><span class=\"toc-item-num\">22&nbsp;&nbsp;</span>已知一个数组为[1,2,3,4,5,6,7,8,9,10]</a></span></li><li><span><a href=\"#已知一个数组为：[1,2,3,4,5,6,7,8,9,10,11,12,15,18]\" data-toc-modified-id=\"已知一个数组为：[1,2,3,4,5,6,7,8,9,10,11,12,15,18]-23\"><span class=\"toc-item-num\">23&nbsp;&nbsp;</span>已知一个数组为：[1,2,3,4,5,6,7,8,9,10,11,12,15,18]</a></span></li><li><span><a href=\"#已知一个json数组为\" data-toc-modified-id=\"已知一个json数组为-24\"><span class=\"toc-item-num\">24&nbsp;&nbsp;</span>已知一个json数组为</a></span></li><li><span><a href=\"#map结构\" data-toc-modified-id=\"map结构-25\"><span class=\"toc-item-num\">25&nbsp;&nbsp;</span>map结构</a></span></li><li><span><a href=\"#遍历-company-对象\" data-toc-modified-id=\"遍历-company-对象-26\"><span class=\"toc-item-num\">26&nbsp;&nbsp;</span>遍历 company 对象</a></span></li><li><span><a href=\"#使用-JSON-对象实现一个简单的深拷贝函数(deepCopy)。\" data-toc-modified-id=\"使用-JSON-对象实现一个简单的深拷贝函数(deepCopy)。-27\"><span class=\"toc-item-num\">27&nbsp;&nbsp;</span>使用 JSON 对象实现一个简单的深拷贝函数(deepCopy)。</a></span></li><li><span><a href=\"#栈方法pop&amp;7出里面每一项的值\" data-toc-modified-id=\"栈方法pop&amp;7出里面每一项的值-28\"><span class=\"toc-item-num\">28&nbsp;&nbsp;</span>栈方法pop&amp;7出里面每一项的值</a></span></li><li><span><a href=\"#数组解构赋值\" data-toc-modified-id=\"数组解构赋值-29\"><span class=\"toc-item-num\">29&nbsp;&nbsp;</span>数组解构赋值</a></span></li><li><span><a href=\"#解构赋值允许指定默认值。为foo指定默认值true\" data-toc-modified-id=\"解构赋值允许指定默认值。为foo指定默认值true-30\"><span class=\"toc-item-num\">30&nbsp;&nbsp;</span>解构赋值允许指定默认值。为foo指定默认值true</a></span></li><li><span><a href=\"#解构也可以用于嵌套结构的对象。解构下面对象\" data-toc-modified-id=\"解构也可以用于嵌套结构的对象。解构下面对象-31\"><span class=\"toc-item-num\">31&nbsp;&nbsp;</span>解构也可以用于嵌套结构的对象。解构下面对象</a></span></li><li><span><a href=\"#对象的解构也可以指定默认值。指定x的默认值为3-，var-{x-}-=-{};\" data-toc-modified-id=\"对象的解构也可以指定默认值。指定x的默认值为3-，var-{x-}-=-{};-32\"><span class=\"toc-item-num\">32&nbsp;&nbsp;</span>对象的解构也可以指定默认值。指定x的默认值为3 ，var {x } = {};</a></span></li><li><span><a href=\"#默认值生效的条件是什么\" data-toc-modified-id=\"默认值生效的条件是什么-33\"><span class=\"toc-item-num\">33&nbsp;&nbsp;</span>默认值生效的条件是什么</a></span></li><li><span><a href=\"#利用解构赋值，取到从下面函数返回的数组中的值\" data-toc-modified-id=\"利用解构赋值，取到从下面函数返回的数组中的值-34\"><span class=\"toc-item-num\">34&nbsp;&nbsp;</span>利用解构赋值，取到从下面函数返回的数组中的值</a></span></li><li><span><a href=\"#利用解构赋值，取到从下面函数返回的对象中的值\" data-toc-modified-id=\"利用解构赋值，取到从下面函数返回的对象中的值-35\"><span class=\"toc-item-num\">35&nbsp;&nbsp;</span>利用解构赋值，取到从下面函数返回的对象中的值</a></span></li><li><span><a href=\"#利用解构赋值提取JSON对象中的数据。\" data-toc-modified-id=\"利用解构赋值提取JSON对象中的数据。-36\"><span class=\"toc-item-num\">36&nbsp;&nbsp;</span>利用解构赋值提取JSON对象中的数据。</a></span></li><li><span><a href=\"#将items-转为数组\" data-toc-modified-id=\"将items-转为数组-37\"><span class=\"toc-item-num\">37&nbsp;&nbsp;</span>将items 转为数组</a></span></li><li><span><a href=\"#扩展运算符和Set结构相结合，就可以去除数组的重复成员。\" data-toc-modified-id=\"扩展运算符和Set结构相结合，就可以去除数组的重复成员。-38\"><span class=\"toc-item-num\">38&nbsp;&nbsp;</span>扩展运算符和Set结构相结合，就可以去除数组的重复成员。</a></span></li><li><span><a href=\"#1、使用indexOf查询var-a-=-[1,2,3,3,2,1]中2的索引位置\" data-toc-modified-id=\"1、使用indexOf查询var-a-=-[1,2,3,3,2,1]中2的索引位置-39\"><span class=\"toc-item-num\">39&nbsp;&nbsp;</span>1、使用indexOf查询var a = [1,2,3,3,2,1]中2的索引位置</a></span></li><li><span><a href=\"#2、-使用forEach方法，遍历数组。输出要求对于数组中的元素都加一\" data-toc-modified-id=\"2、-使用forEach方法，遍历数组。输出要求对于数组中的元素都加一-40\"><span class=\"toc-item-num\">40&nbsp;&nbsp;</span>2、 使用forEach方法，遍历数组。输出要求对于数组中的元素都加一</a></span></li><li><span><a href=\"#使用every判断var-a-=-[1,-2,-3,-4,-5,-6]数组中的数是否都小于5\" data-toc-modified-id=\"使用every判断var-a-=-[1,-2,-3,-4,-5,-6]数组中的数是否都小于5-41\"><span class=\"toc-item-num\">41&nbsp;&nbsp;</span>使用every判断var a = [1, 2, 3, 4, 5, 6]数组中的数是否都小于5</a></span></li><li><span><a href=\"#使用map修改json数组的键名和列名\" data-toc-modified-id=\"使用map修改json数组的键名和列名-42\"><span class=\"toc-item-num\">42&nbsp;&nbsp;</span>使用map修改json数组的键名和列名</a></span></li><li><span><a href=\"#使用JSON.stringify判断两数组是否相等，相等输出true，不相等输出false\" data-toc-modified-id=\"使用JSON.stringify判断两数组是否相等，相等输出true，不相等输出false-43\"><span class=\"toc-item-num\">43&nbsp;&nbsp;</span>使用JSON.stringify判断两数组是否相等，相等输出true，不相等输出false</a></span></li><li><span><a href=\"#json数组遍历\" data-toc-modified-id=\"json数组遍历-44\"><span class=\"toc-item-num\">44&nbsp;&nbsp;</span>json数组遍历</a></span><ul class=\"toc-item\"><li><ul class=\"toc-item\"><li><span><a href=\"#数据：arr-=-np.arange(10)\" data-toc-modified-id=\"数据：arr-=-np.arange(10)-44.0.1\"><span class=\"toc-item-num\">44.0.1&nbsp;&nbsp;</span>数据：arr = np.arange(10)</a></span></li></ul></li></ul></li><li><span><a href=\"#队列方法shift&amp;unshift\" data-toc-modified-id=\"队列方法shift&amp;unshift-45\"><span class=\"toc-item-num\">45&nbsp;&nbsp;</span>队列方法shift&amp;unshift</a></span></li><li><span><a href=\"#数组降维方法\" data-toc-modified-id=\"数组降维方法-46\"><span class=\"toc-item-num\">46&nbsp;&nbsp;</span>数组降维方法</a></span></li><li><span><a href=\"#concat-合并数组\" data-toc-modified-id=\"concat-合并数组-47\"><span class=\"toc-item-num\">47&nbsp;&nbsp;</span>concat 合并数组</a></span></li><li><span><a href=\"#块级作用域\" data-toc-modified-id=\"块级作用域-48\"><span class=\"toc-item-num\">48&nbsp;&nbsp;</span>块级作用域</a></span></li><li><span><a href=\"#箭头函数过滤\" data-toc-modified-id=\"箭头函数过滤-49\"><span class=\"toc-item-num\">49&nbsp;&nbsp;</span>箭头函数过滤</a></span></li><li><span><a href=\"#箭头函数内的this\" data-toc-modified-id=\"箭头函数内的this-50\"><span class=\"toc-item-num\">50&nbsp;&nbsp;</span>箭头函数内的this</a></span></li></ul></div>"
   ]
  },
  {
   "cell_type": "markdown",
   "metadata": {},
   "source": [
    "## 使用结构赋值，实现两个变量的值的交换 a = 1; b = 2;"
   ]
  },
  {
   "cell_type": "code",
   "execution_count": null,
   "metadata": {},
   "outputs": [],
   "source": [
    "let a = 1;let b = 2;\n",
    "[a,b] = [b,a];"
   ]
  },
  {
   "cell_type": "markdown",
   "metadata": {},
   "source": [
    "## 使用Set去重 [12,43,23,43,68,12]"
   ]
  },
  {
   "cell_type": "code",
   "execution_count": null,
   "metadata": {},
   "outputs": [],
   "source": [
    "let arr = [12,43,23,43,68,12];\n",
    "let item = [...new Set(arr)];\n",
    "console.log(item);//[12, 43, 23, 68]"
   ]
  },
  {
   "cell_type": "markdown",
   "metadata": {},
   "source": [
    "## 将下面for循环改成for of形式\n",
    "```\n",
    "let arr = [11,22,33,44,55];\n",
    "let sum = 0;\n",
    "for(let i=0;i<arr.length;i++){\n",
    "    sum += arr[i];\n",
    "}\n",
    "```"
   ]
  },
  {
   "cell_type": "code",
   "execution_count": null,
   "metadata": {},
   "outputs": [],
   "source": [
    "let arr = [11,22,33,44,55];\n",
    "let sum = 0;\n",
    "for(value of arr){\n",
    "    sum += value;\n",
    "}"
   ]
  },
  {
   "cell_type": "markdown",
   "metadata": {},
   "source": [
    "## 使用解构赋值，完成函数的参数默认值（编程题）。"
   ]
  },
  {
   "cell_type": "code",
   "execution_count": null,
   "metadata": {},
   "outputs": [],
   "source": [
    "let test = (name='tom')=>{\n",
    "    console.log(name);\n",
    "}\n",
    "test();//tom"
   ]
  },
  {
   "cell_type": "markdown",
   "metadata": {},
   "source": [
    "## 用箭头函数的形式改写下面的代码。\n",
    "```\n",
    "arr.forEach(function (v,i) {    \n",
    "      console.log(i);    \n",
    "      console.log(v);\n",
    "});\n",
    "```"
   ]
  },
  {
   "cell_type": "code",
   "execution_count": null,
   "metadata": {},
   "outputs": [],
   "source": [
    "arr.forEach((v,i)=>{\n",
    "    console.log(i);\n",
    "    console.log(v);\n",
    "})"
   ]
  },
  {
   "cell_type": "markdown",
   "metadata": {},
   "source": [
    "## 用对象的简洁表示法改写下面的代码。\n",
    "```\n",
    "let name = \"tom\";\n",
    "let obj = {    \n",
    "    \"name\":name,    \n",
    "    \"say\":function(){\n",
    "        alert('hello world');\n",
    "    }\n",
    "};\n",
    "```"
   ]
  },
  {
   "cell_type": "code",
   "execution_count": null,
   "metadata": {},
   "outputs": [],
   "source": [
    "let name = \"tom\";\n",
    "let obj = {\n",
    "    name,\n",
    "    say(){\n",
    "        alert('hello world');\n",
    "    }\n",
    "}"
   ]
  },
  {
   "cell_type": "markdown",
   "metadata": {},
   "source": [
    "## 利用数组推导，计算出数组 [1,2,3,4] 每一个元素的平方并组成新的数组。（编程题）"
   ]
  },
  {
   "cell_type": "code",
   "execution_count": null,
   "metadata": {},
   "outputs": [],
   "source": [
    "let arr = [1,2,3,4];\n",
    "var arr2 = [];\n",
    "for(let i of arr){\n",
    "    arr2.push(i*i);\n",
    "}\n",
    "console.log(arr2);//[1,4,9,16]"
   ]
  },
  {
   "cell_type": "markdown",
   "metadata": {},
   "source": [
    "## 使用模板字符串改写下面的代码。（ES5 to ES6改写题）\n",
    "```\n",
    "let iam  = \"我是\";let name = \"tom\";let str  = \"大家好，\"+iam+name+\"，多指教。\";\n",
    "```"
   ]
  },
  {
   "cell_type": "code",
   "execution_count": null,
   "metadata": {},
   "outputs": [],
   "source": [
    "let iam = \"我是\"; let name = \"tom\"; let str = `大家好，${iam+name}，多指教`;"
   ]
  },
  {
   "cell_type": "markdown",
   "metadata": {},
   "source": [
    "## 定义一个a数组变量([1,2,3]) ，再定一个b数组变量([4,1,3])，用has方法和filter属性求这两个数组的交集"
   ]
  },
  {
   "cell_type": "code",
   "execution_count": null,
   "metadata": {},
   "outputs": [],
   "source": [
    "let a = new Set([1,2,3]);\n",
    "let b = new Set([4,1,3]);\n",
    "let c = new Set([...a].filter(x=>b.has(x)));\n",
    "console.log(c);"
   ]
  },
  {
   "cell_type": "markdown",
   "metadata": {},
   "source": [
    "\n",
    "## 创建一个对象，obj = {\"name\":\"nbnb\",\"age\":19, \"like\":\"HXM\"}。获取该对象的所有属性名\n"
   ]
  },
  {
   "cell_type": "code",
   "execution_count": null,
   "metadata": {},
   "outputs": [],
   "source": [
    "let obj = {\n",
    "　　\"name\":\"xsxs\",\n",
    "　　\"age\":19,\n",
    "    \"like\":\"HXM\"\n",
    "};\n",
    "const a = Object.keys(obj);\n",
    "console.log(a)"
   ]
  },
  {
   "cell_type": "markdown",
   "metadata": {},
   "source": [
    "<a id=\"a3\"></a>\n",
    "##  Array filter() 方法\n",
    "\n",
    "设置一个名为isBigEnough的函数，定义返回数字大于等于10的规则。再定义一个number数组[12, 5, 8, 130, 44, 10]。用filter创建一个新的数组并使用isBigEnough函数返回number中大于等于10的元素\n",
    "\n",
    "\n",
    "[返回主菜单](#AA)"
   ]
  },
  {
   "cell_type": "code",
   "execution_count": null,
   "metadata": {},
   "outputs": [],
   "source": [
    "var number = [11, 4, 32, 10, 1];\n",
    "function isBigEnough(element, index, array) {\n",
    "    return (element >= 10);\n",
    "}\n",
    "var passed = number.filter(isBigEnough);\n",
    "console.log(\"返回的数为: \" + passed );"
   ]
  },
  {
   "cell_type": "markdown",
   "metadata": {},
   "source": [
    "<a id=\"a4\"></a>\n",
    "##  copyWithin() 方法\n",
    "\n",
    "\n",
    "设置一个数组变量 [\"Banana\", \"Orange\", \"Apple\", \"Mango\", \"Kiwi\", \"Papaya\"]; 并复制数组的前面两个元素到第五和第六个位置上\n",
    "\n",
    "[返回主菜单](#AA)"
   ]
  },
  {
   "cell_type": "code",
   "execution_count": null,
   "metadata": {},
   "outputs": [],
   "source": [
    "var a = [\"Banana\", \"Orange\", \"Apple\", \"Mango\", \"Kiwi\", \"Papaya\"];\n",
    "var b=a.copyWithin(4, 0, 2);\n",
    "console.log(b);"
   ]
  },
  {
   "cell_type": "markdown",
   "metadata": {},
   "source": [
    "<a id=\"a5\"></a>\n",
    "## forEach() 方法\n",
    "\n",
    " 问题描述：\n",
    "设置一个变量 sum = 0;再设置一个数组变量numbers = [65, 44, 12, 4]; 并计算数组中所有元素相加的总和。\n",
    "\n",
    "[返回主菜单](#AA)"
   ]
  },
  {
   "cell_type": "code",
   "execution_count": null,
   "metadata": {},
   "outputs": [],
   "source": [
    "var sum = 0;\n",
    "var numbers = [65, 44, 12, 4];\n",
    "\n",
    "function myFunction(item) {\n",
    "    sum += item;\n",
    "    a = sum;\n",
    "    console.log(a);\n",
    "};\n",
    "numbers.forEach(myFunction);"
   ]
  },
  {
   "cell_type": "markdown",
   "metadata": {},
   "source": [
    "<a id=\"a6\"></a>\n",
    "## map() 方法\n",
    "\n",
    "问题描述：\n",
    "设置一个数组变量numbers = [4, 9, 16, 25]; 返回一个数组，数组中元素为原始数组的平方根\n",
    "\n",
    "[返回主菜单](#AA)"
   ]
  },
  {
   "cell_type": "code",
   "execution_count": null,
   "metadata": {},
   "outputs": [],
   "source": [
    "var numbers = [4, 9, 16, 25];\n",
    "function myFunction() {\n",
    "    var a =numbers.map(Math.sqrt);\n",
    "    console.log(a)\n",
    "};\n",
    "console.log(myFunction());"
   ]
  },
  {
   "cell_type": "markdown",
   "metadata": {},
   "source": [
    "## es6的导入导出模块 导入通过import关键字 只导入example.js中的 sum\n"
   ]
  },
  {
   "cell_type": "code",
   "execution_count": null,
   "metadata": {},
   "outputs": [],
   "source": [
    "// 只导入一个\n",
    "import {sum} from \"./example.js\""
   ]
  },
  {
   "cell_type": "markdown",
   "metadata": {},
   "source": [
    "## es6的导入导出模块 导入通过import关键字 导入example.js中的 sum,multiply,time"
   ]
  },
  {
   "cell_type": "code",
   "execution_count": null,
   "metadata": {},
   "outputs": [],
   "source": [
    "// 导入多个\n",
    "import {sum,multiply,time} from \"./exportExample.js\""
   ]
  },
  {
   "cell_type": "markdown",
   "metadata": {},
   "source": [
    "## es6的导入导出模块 导入通过import关键字 导入example.js一整个模块"
   ]
  },
  {
   "cell_type": "code",
   "execution_count": null,
   "metadata": {},
   "outputs": [],
   "source": [
    "// 导入一整个模块\n",
    "import * as example from \"./exportExample.js\""
   ]
  },
  {
   "cell_type": "markdown",
   "metadata": {},
   "source": [
    "<a id = \"a_01\"></a>\n",
    "## 已知一个数组为[1,2,3,3,2,1],请输出数组中‘2’的两个索引值\n",
    "\n",
    "代码"
   ]
  },
  {
   "cell_type": "code",
   "execution_count": null,
   "metadata": {},
   "outputs": [],
   "source": [
    "var a = [1,2,3,3,2,1]\n",
    "console.log(a.indexOf(2))\n",
    "console.log(a.lastIndexOf(2))"
   ]
  },
  {
   "cell_type": "markdown",
   "metadata": {},
   "source": [
    "<a id = \"a_02\"></a>\n",
    "## 举出一个例子，使用ES6语法，证明map（）为什么不会对空数组遍历\n",
    " \n",
    "代码"
   ]
  },
  {
   "cell_type": "code",
   "execution_count": null,
   "metadata": {},
   "outputs": [],
   "source": [
    "let arr=[]\n",
    "let newArr = arr.map((item,i,arr)=>{\n",
    "    console.log(`item---${item},i---${i},arr---${arr}`)\n",
    "    return item+i\n",
    "})\n",
    "console.log(newArr)"
   ]
  },
  {
   "cell_type": "markdown",
   "metadata": {},
   "source": [
    "<a id = \"a_03\"></a>\n",
    "## 已知一个数组是[1，2，3，4，5]\n",
    "* 要求：将整个数组转化为布尔类型，并且大于3的全部转换为true。\n",
    "* [返回主菜单](#AA)\n",
    "\n",
    "代码"
   ]
  },
  {
   "cell_type": "code",
   "execution_count": null,
   "metadata": {},
   "outputs": [],
   "source": [
    "let a = [1,2,3,4,5]\n",
    "let b = a.map((item)=>{\n",
    "   return item>3\n",
    " })\n",
    "console.log(b)"
   ]
  },
  {
   "cell_type": "markdown",
   "metadata": {},
   "source": [
    "<a id = \"a_04\"></a>\n",
    "## 已知一个数组是[2,2,4,5,7].\n",
    "* 要求：将数组中大于4的元素替换成8\n",
    "* [返回主菜单](#AA)\n",
    "\n",
    "代码"
   ]
  },
  {
   "cell_type": "code",
   "execution_count": null,
   "metadata": {},
   "outputs": [],
   "source": [
    "let a = [2,2,4,5,7]\n",
    "let b = a.map((item)=>{\n",
    "    item = item>3?item=8:item\n",
    "    return item\n",
    "})\n",
    "console.log(b)"
   ]
  },
  {
   "cell_type": "markdown",
   "metadata": {},
   "source": [
    "<a id = \"a_05\"></a>\n",
    "## 已知一个数组为[1,2,3,4,5,6,7,8,9,10]\n",
    "* 要求：删除偶数，只保留奇数\n",
    " * [返回主菜单](#AA) \n",
    " 代码"
   ]
  },
  {
   "cell_type": "code",
   "execution_count": null,
   "metadata": {},
   "outputs": [],
   "source": [
    "var a = [1,2,3,4,5,6,7,8,9,10]\n",
    "var b = a.filter(function (x){\n",
    "  return x % 2 == 0\n",
    "})\n",
    "console.log(b)"
   ]
  },
  {
   "cell_type": "markdown",
   "metadata": {},
   "source": [
    "<a id = \"a_06\"></a>\n",
    "## 已知一个数组为：[1,2,3,4,5,6,7,8,9,10,11,12,15,18]\n",
    "* 要求将大于等于5的数过滤掉\n",
    "* [返回主菜单](#AA)\n",
    " \n",
    " 代码"
   ]
  },
  {
   "cell_type": "code",
   "execution_count": null,
   "metadata": {},
   "outputs": [],
   "source": [
    "var a = [1,2,3,4,5,6,7,8,9,10,11,12,15,18];\n",
    "var b = a.filter(function(c){\n",
    "    return c>=5\n",
    "});\n",
    "console.log(c)"
   ]
  },
  {
   "cell_type": "markdown",
   "metadata": {},
   "source": [
    "<a id = \"a_07\"></a>\n",
    "## 已知一个json数组为\n",
    "[{value: 8,label: '苹果'},{value: 6, label: '香蕉'},{value: 12, label: '葡萄'}]\n",
    "* 要求：请将json数组中的键值替换为name与price\n",
    " * [返回主菜单](#AA)\n",
    " 代码"
   ]
  },
  {
   "cell_type": "code",
   "execution_count": null,
   "metadata": {},
   "outputs": [],
   "source": [
    " let data = [{value: 8,label: '苹果'},{value: 6, label: '香蕉'},{value: 12, label: '葡萄'}]\n",
    " data = data.map(item => {\n",
    "      return {\n",
    "          name: item.label,\n",
    "          price: item.value\n",
    "        }\n",
    "    })\n",
    "    console.log(data)"
   ]
  },
  {
   "cell_type": "markdown",
   "metadata": {},
   "source": [
    "## map结构\n",
    "用map数组的结构输出名字：张三"
   ]
  },
  {
   "cell_type": "code",
   "execution_count": null,
   "metadata": {},
   "outputs": [],
   "source": [
    "const map = new Map([\n",
    "    ['name','张三']\n",
    "])\n",
    "console.log（map.get('name'));"
   ]
  },
  {
   "cell_type": "markdown",
   "metadata": {},
   "source": [
    "## 遍历 company 对象\n",
    "遍历 company 对象，输出里面每一项的值\n",
    "数据：\n",
    "    name: '饥人谷',\n",
    "    age: 3,\n",
    "    sex: '男'"
   ]
  },
  {
   "cell_type": "code",
   "execution_count": null,
   "metadata": {},
   "outputs": [],
   "source": [
    "var company = {\n",
    "    name: '饥人谷',\n",
    "    age: 3,\n",
    "    sex: '男'\n",
    "}\n",
    "\n",
    "for(var item in company){\n",
    "    console.log(company[item])\n",
    "}"
   ]
  },
  {
   "cell_type": "markdown",
   "metadata": {},
   "source": [
    "## 使用 JSON 对象实现一个简单的深拷贝函数(deepCopy)。\n",
    "遍历 company 对象，输出里面每一项的值\n",
    "数据：\n",
    "    var obj = {\n",
    "    name: 'hunger',\n",
    "    age: 3,\n",
    "    friends: ['aa', 'bb', 'cc']}"
   ]
  },
  {
   "cell_type": "code",
   "execution_count": null,
   "metadata": {},
   "outputs": [],
   "source": [
    "var obj = {\n",
    "    name: 'hunger',\n",
    "    age: 3,\n",
    "    friends: ['aa', 'bb', 'cc']\n",
    "}\n",
    "\n",
    "var obj2 = JSON.parse(JSON.stringify(obj))\n",
    "obj.age = 4\n",
    "console.log(obj2.age)"
   ]
  },
  {
   "cell_type": "markdown",
   "metadata": {},
   "source": [
    "## 栈方法pop&7出里面每一项的值\n",
    "分别输出 [4，1，2，3],4,4,[1,2,3],3\n",
    "数据：\n",
    "var a = [1, 2, 3];\n",
    "a.push(4);"
   ]
  },
  {
   "cell_type": "code",
   "execution_count": null,
   "metadata": {},
   "outputs": [],
   "source": [
    "var a = [1, 2, 3];\n",
    "a.push(4);\n",
    "console.log(a);//[1, 2, 3, 4]\n",
    "console.log(a.length);//4\n",
    "console.log(a.pop());//4\n",
    "console.log(a); //[1, 2, 3]\n",
    "console.log(a.length);//3"
   ]
  },
  {
   "cell_type": "markdown",
   "metadata": {},
   "source": [
    "## 数组解构赋值\n",
    "ES6允许按照一定模式，从数组和对象中提取值，对变量进行赋值，这被称为解构（Destructuring）。\n",
    "\n",
    "以前，为变量赋值，只能直接指定值。\n",
    "```\n",
    "var a = 1;\n",
    "var b = 2;\n",
    "var c = 3;\n",
    "```\n",
    "ES6允许写成下面这样。\n"
   ]
  },
  {
   "cell_type": "code",
   "execution_count": null,
   "metadata": {},
   "outputs": [],
   "source": [
    "var [a, b, c] = [1, 2, 3];"
   ]
  },
  {
   "cell_type": "markdown",
   "metadata": {},
   "source": [
    "## 解构赋值允许指定默认值。为foo指定默认值true\n",
    "```\n",
    "var [foo] = [];\n",
    "```"
   ]
  },
  {
   "cell_type": "code",
   "execution_count": null,
   "metadata": {},
   "outputs": [],
   "source": [
    "var [foo = true] = [];"
   ]
  },
  {
   "cell_type": "markdown",
   "metadata": {},
   "source": [
    "## 解构也可以用于嵌套结构的对象。解构下面对象\n",
    "```\n",
    "var obj = {\n",
    "  p: [\n",
    "    'Hello',\n",
    "    { y: 'World' }\n",
    "  ]\n",
    "};\n",
    "```"
   ]
  },
  {
   "cell_type": "code",
   "execution_count": null,
   "metadata": {},
   "outputs": [],
   "source": [
    "\n",
    "var { p: [x, { y }] } = obj;\n",
    "x // \"Hello\"\n",
    "y // \"World\""
   ]
  },
  {
   "cell_type": "markdown",
   "metadata": {},
   "source": [
    "## 对象的解构也可以指定默认值。指定x的默认值为3 ，var {x } = {};"
   ]
  },
  {
   "cell_type": "code",
   "execution_count": null,
   "metadata": {},
   "outputs": [],
   "source": [
    "var {x = 3} = {};\n",
    "x // 3"
   ]
  },
  {
   "cell_type": "markdown",
   "metadata": {},
   "source": [
    "## 默认值生效的条件是什么\n",
    "```\n",
    "var {x = 3} = {x= ? };\n",
    "```\n"
   ]
  },
  {
   "cell_type": "code",
   "execution_count": null,
   "metadata": {},
   "outputs": [],
   "source": [
    "var {x = 3} = {x: undefined};\n",
    "x // 3"
   ]
  },
  {
   "cell_type": "markdown",
   "metadata": {},
   "source": [
    "## 利用解构赋值，取到从下面函数返回的数组中的值\n",
    "```\n",
    "function example() {\n",
    "  return [1, 2, 3];\n",
    "}\n",
    "```"
   ]
  },
  {
   "cell_type": "code",
   "execution_count": null,
   "metadata": {},
   "outputs": [],
   "source": [
    "var [a, b, c] = example();"
   ]
  },
  {
   "cell_type": "markdown",
   "metadata": {},
   "source": [
    "## 利用解构赋值，取到从下面函数返回的对象中的值\n",
    "```\n",
    "function example() {\n",
    "  return {\n",
    "    foo: 1,\n",
    "    bar: 2\n",
    "  };\n",
    "}\n",
    "```"
   ]
  },
  {
   "cell_type": "code",
   "execution_count": null,
   "metadata": {},
   "outputs": [],
   "source": [
    "var { foo, bar } = example();"
   ]
  },
  {
   "cell_type": "markdown",
   "metadata": {},
   "source": [
    "## 利用解构赋值提取JSON对象中的数据。\n",
    "```\n",
    "var jsonData = {\n",
    "  id: 42,\n",
    "  status: \"OK\",\n",
    "  data: [867, 5309]\n",
    "};\n",
    "```\n"
   ]
  },
  {
   "cell_type": "code",
   "execution_count": null,
   "metadata": {},
   "outputs": [],
   "source": [
    "let { id, status, data: number } = jsonData;\n",
    "\n",
    "console.log(id, status, number);\n",
    "// 42, \"OK\", [867, 5309]"
   ]
  },
  {
   "cell_type": "markdown",
   "metadata": {},
   "source": [
    "## 将items 转为数组\n",
    "Array.from方法可以将Set结构转为数组。\n",
    "```\n",
    "var items = new Set([1, 2, 3, 4, 5]);\n",
    "```"
   ]
  },
  {
   "cell_type": "code",
   "execution_count": null,
   "metadata": {},
   "outputs": [],
   "source": [
    "var array = Array.from(items);"
   ]
  },
  {
   "cell_type": "markdown",
   "metadata": {},
   "source": [
    "## 扩展运算符和Set结构相结合，就可以去除数组的重复成员。\n",
    "```\n",
    "let arr = [3, 5, 2, 2, 5, 5];\n",
    "```\n"
   ]
  },
  {
   "cell_type": "code",
   "execution_count": null,
   "metadata": {},
   "outputs": [],
   "source": [
    "let arr = [3, 5, 2, 2, 5, 5];\n",
    "let unique = [...new Set(arr)];\n",
    "// [3, 5, 2]"
   ]
  },
  {
   "cell_type": "markdown",
   "metadata": {},
   "source": [
    "## 1、使用indexOf查询var a = [1,2,3,3,2,1]中2的索引位置"
   ]
  },
  {
   "cell_type": "code",
   "execution_count": null,
   "metadata": {},
   "outputs": [],
   "source": [
    "var a = [1,2,3,3,2,1]\n",
    "console.log(a.indexOf(2)) //1\n",
    "console.log(a.lastIndexOf(2)) //4"
   ]
  },
  {
   "cell_type": "markdown",
   "metadata": {},
   "source": [
    "## 2、 使用forEach方法，遍历数组。输出要求对于数组中的元素都加一\n",
    "   要求：var a = new Array(1,2,3,4,5,6)要求输出[2, 3, 4, 5, 6, 7]"
   ]
  },
  {
   "cell_type": "code",
   "execution_count": null,
   "metadata": {},
   "outputs": [],
   "source": [
    "var a = new Array(1,2,3,4,5,6);\n",
    "\n",
    "a.forEach(function(e,i,array){\n",
    "    array[i]= e + 1;\n",
    "});\n",
    "console.log(a); //[2, 3, 4, 5, 6, 7]"
   ]
  },
  {
   "cell_type": "markdown",
   "metadata": {},
   "source": [
    "## 使用every判断var a = [1, 2, 3, 4, 5, 6]数组中的数是否都小于5\n",
    "使用some判断var a = [1, 2, 3, 4, 5, 6]数组中是否有一个大于4"
   ]
  },
  {
   "cell_type": "code",
   "execution_count": null,
   "metadata": {},
   "outputs": [],
   "source": [
    "var a = [1, 2, 3, 4, 5, 6]\n",
    "console.log(a.every(function(e, i, arr){\n",
    "    return e < 5\n",
    "}))  //false\n",
    "\n",
    "console.log(a.some(function(e,i,arr){\n",
    "    return e > 4\n",
    "})) //true"
   ]
  },
  {
   "cell_type": "markdown",
   "metadata": {},
   "source": [
    "##  使用map修改json数组的键名和列名\n",
    "\n",
    "**数据：let data =[{key:\"1\",label:\"haha\"},{key:\"2\",label:\"hehe\"}];**\n",
    "\n",
    "**要求输出：[ { aid: '1', title: 'haha' }, { aid: '2', title: 'hehe' } ]**\n",
    "\n",
    "**要求{aid:item.key,title:item.label}**"
   ]
  },
  {
   "cell_type": "code",
   "execution_count": null,
   "metadata": {},
   "outputs": [],
   "source": [
    "let data =[\n",
    "  {key:\"1\",label:\"haha\"},\n",
    "  {key:\"2\",label:\"hehe\"}\n",
    "  ];\n",
    "const newData= data.map(item => {\n",
    "  return {aid:item.key,title:item.label};\n",
    "});\n",
    "console.log(newData);"
   ]
  },
  {
   "cell_type": "markdown",
   "metadata": {},
   "source": [
    "## 使用JSON.stringify判断两数组是否相等，相等输出true，不相等输出false\n",
    "\n",
    "给出数据：\n",
    "```\n",
    "\n",
    " let a = [1,2,3],\n",
    "\n",
    " b = [1,2,3];\n",
    " ```"
   ]
  },
  {
   "cell_type": "code",
   "execution_count": null,
   "metadata": {},
   "outputs": [],
   "source": [
    "let a = [1,2,3],\n",
    "  b = [1,2,3];\n",
    "let result = JSON.stringify(a) === JSON.stringify(b);\n",
    "//true\n",
    "console.log(result);//true"
   ]
  },
  {
   "cell_type": "markdown",
   "metadata": {},
   "source": [
    "##  json数组遍历\n",
    " 数据：\n",
    " \n",
    " var data = { 0: { name: \"ZSZS\", money: \"100\" }, 1: { name: \"LSLS\", money: \"120\" }, 2: { name: \"LSLS\", money: \"120\" }, 3: { name: \"ZSZS\", money: \"200\" } };\n",
    "\n",
    "要求输出结果：\n",
    "\n",
    "[ { name: 'ZSZS', money: '100' }, { name: 'LSLS', money: '120' }, { name: 'LSLS', money: '120' }, { name: 'ZSZS', money: '200' } ]\n",
    "\n",
    "#### 数据：arr = np.arange(10)"
   ]
  },
  {
   "cell_type": "code",
   "execution_count": null,
   "metadata": {},
   "outputs": [],
   "source": [
    "var data = {\n",
    "  0: {\n",
    "    name: \"ZSZS\",\n",
    "    money: \"100\"\n",
    "  },\n",
    "  1: {\n",
    "    name: \"LSLS\",\n",
    "    money: \"120\"\n",
    "  },\n",
    "  2: {\n",
    "    name: \"LSLS\",\n",
    "    money: \"120\"\n",
    "  },\n",
    "  3: {\n",
    "    name: \"ZSZS\",\n",
    "    money: \"200\"\n",
    "  }\n",
    "};\n",
    "let result = [];\n",
    "for(item in data) {\n",
    "    result.push(data[item])\n",
    "}\n",
    "console.log(result)"
   ]
  },
  {
   "cell_type": "markdown",
   "metadata": {},
   "source": [
    "## 队列方法shift&unshift\n",
    "\n",
    "数据：var a=[1, 2, 3]\n",
    "\n",
    "使用a.unshift()在数组最前方添加一个元素"
   ]
  },
  {
   "cell_type": "code",
   "execution_count": null,
   "metadata": {},
   "outputs": [],
   "source": [
    "var a=[1, 2, 3];\n",
    "a.unshift(4);\n",
    "console.log(a);//[4, 1, 2, 3]"
   ]
  },
  {
   "cell_type": "markdown",
   "metadata": {},
   "source": [
    "##  数组降维方法\n",
    "* 接受一个仅包含数字的 多维数组 ，返回拍平以后的结果。例如传入：[1, [[2], 3, 4], 5]，返回 [1, 2, 3, 4, 5]。"
   ]
  },
  {
   "cell_type": "code",
   "execution_count": null,
   "metadata": {},
   "outputs": [],
   "source": [
    "const arr = [1, [[2], 3, 4], 5];\n",
    "const flatten = arr => {\n",
    "    return arr.reduce((flat, toFlat) => {\n",
    "        return flat.concat(Array.isArray(toFlat) ? flatten(toFlat) : toFlat);\n",
    "    }, []);\n",
    "};\n",
    "const res = flatten(arr);\n",
    "console.log(res);\n",
    "// [ 1, 2, 3, 4, 5 ]"
   ]
  },
  {
   "cell_type": "markdown",
   "metadata": {},
   "source": [
    "##  concat 合并数组\n",
    "* 建立三个数组arr1、arr2、arr3，然后合并"
   ]
  },
  {
   "cell_type": "code",
   "execution_count": null,
   "metadata": {},
   "outputs": [],
   "source": [
    "\n",
    "var arr1 = ['a', 'b'];\n",
    "var arr2 = ['c'];\n",
    "var arr3 = ['d', 'e'];\n",
    "console.log([...arr1, ...arr2, ...arr3] )\n",
    "// [ 'a', 'b', 'c', 'd', 'e' ]"
   ]
  },
  {
   "cell_type": "markdown",
   "metadata": {},
   "source": [
    "##   块级作用域\n",
    "* for循环10个10"
   ]
  },
  {
   "cell_type": "code",
   "execution_count": null,
   "metadata": {},
   "outputs": [],
   "source": [
    "for (var i = 0; i <10; i++) {\n",
    "    setTimeout(function() {  // 同步注册回调函数到异步的宏任务队列。\n",
    "        console.log(i);        // 执行此代码时，同步代码for循环已经执行完成\n",
    "    }, 0);\n",
    "}\n",
    "//10(共十个)"
   ]
  },
  {
   "cell_type": "markdown",
   "metadata": {},
   "source": [
    "##  箭头函数过滤\n",
    "* 创建一个数组，包含1、89、236、4569，然后过滤1、89"
   ]
  },
  {
   "cell_type": "code",
   "execution_count": null,
   "metadata": {},
   "outputs": [],
   "source": [
    "let array = ['1', '2345', '567', '89'];\n",
    "array = array.filter(item => item.length > 2);\n",
    "console.log(array)"
   ]
  },
  {
   "cell_type": "markdown",
   "metadata": {},
   "source": [
    "##    箭头函数内的this\n",
    "* 使用两个作用域，使this找到它的父作用域name，然后在外面再加一个父作用域name，利用this指向name"
   ]
  },
  {
   "cell_type": "code",
   "execution_count": null,
   "metadata": {},
   "outputs": [],
   "source": [
    "var name = 'leo';\n",
    "var teacher = {\n",
    "    name: \"大彬哥\",\n",
    "    showName: function () {\n",
    "        let showTest = ()=>alert(this.name);\n",
    "        showTest();\n",
    "    }\n",
    "};\n",
    "console.log(teacher.showName)\n",
    "//[Function: showName]"
   ]
  },
  {
   "cell_type": "code",
   "execution_count": null,
   "metadata": {},
   "outputs": [],
   "source": []
  },
  {
   "cell_type": "code",
   "execution_count": null,
   "metadata": {},
   "outputs": [],
   "source": []
  },
  {
   "cell_type": "code",
   "execution_count": null,
   "metadata": {},
   "outputs": [],
   "source": []
  },
  {
   "cell_type": "code",
   "execution_count": null,
   "metadata": {},
   "outputs": [],
   "source": []
  },
  {
   "cell_type": "code",
   "execution_count": null,
   "metadata": {},
   "outputs": [],
   "source": []
  },
  {
   "cell_type": "code",
   "execution_count": null,
   "metadata": {},
   "outputs": [],
   "source": []
  },
  {
   "cell_type": "code",
   "execution_count": null,
   "metadata": {},
   "outputs": [],
   "source": []
  },
  {
   "cell_type": "code",
   "execution_count": null,
   "metadata": {},
   "outputs": [],
   "source": []
  },
  {
   "cell_type": "code",
   "execution_count": null,
   "metadata": {},
   "outputs": [],
   "source": []
  },
  {
   "cell_type": "code",
   "execution_count": null,
   "metadata": {},
   "outputs": [],
   "source": []
  },
  {
   "cell_type": "code",
   "execution_count": null,
   "metadata": {},
   "outputs": [],
   "source": []
  },
  {
   "cell_type": "code",
   "execution_count": null,
   "metadata": {},
   "outputs": [],
   "source": []
  },
  {
   "cell_type": "code",
   "execution_count": null,
   "metadata": {},
   "outputs": [],
   "source": []
  },
  {
   "cell_type": "code",
   "execution_count": null,
   "metadata": {},
   "outputs": [],
   "source": []
  },
  {
   "cell_type": "code",
   "execution_count": null,
   "metadata": {},
   "outputs": [],
   "source": []
  },
  {
   "cell_type": "code",
   "execution_count": null,
   "metadata": {},
   "outputs": [],
   "source": []
  },
  {
   "cell_type": "code",
   "execution_count": null,
   "metadata": {},
   "outputs": [],
   "source": []
  },
  {
   "cell_type": "code",
   "execution_count": null,
   "metadata": {},
   "outputs": [],
   "source": []
  },
  {
   "cell_type": "code",
   "execution_count": null,
   "metadata": {},
   "outputs": [],
   "source": []
  }
 ],
 "metadata": {
  "kernelspec": {
   "display_name": "Python 3",
   "language": "python",
   "name": "python3"
  },
  "language_info": {
   "codemirror_mode": {
    "name": "ipython",
    "version": 3
   },
   "file_extension": ".py",
   "mimetype": "text/x-python",
   "name": "python",
   "nbconvert_exporter": "python",
   "pygments_lexer": "ipython3",
   "version": "3.7.3"
  },
  "toc": {
   "base_numbering": 1,
   "nav_menu": {},
   "number_sections": true,
   "sideBar": true,
   "skip_h1_title": true,
   "title_cell": "Table of Contents",
   "title_sidebar": "Contents",
   "toc_cell": true,
   "toc_position": {
    "height": "calc(100% - 180px)",
    "left": "10px",
    "top": "150px",
    "width": "384px"
   },
   "toc_section_display": true,
   "toc_window_display": false
  }
 },
 "nbformat": 4,
 "nbformat_minor": 2
}
